{
 "cells": [
  {
   "cell_type": "markdown",
   "metadata": {},
   "source": [
    "## cv2 example"
   ]
  },
  {
   "cell_type": "code",
   "execution_count": 5,
   "metadata": {},
   "outputs": [
    {
     "name": "stdout",
     "output_type": "stream",
     "text": [
      "Collecting opencv-python\n",
      "  Downloading opencv_python-4.5.2.54-cp38-cp38-win_amd64.whl (34.7 MB)\n",
      "Requirement already satisfied: numpy>=1.17.3 in c:\\users\\gokcedeliorman\\anaconda3\\lib\\site-packages (from opencv-python) (1.20.1)\n",
      "Installing collected packages: opencv-python\n",
      "Successfully installed opencv-python-4.5.2.54\n"
     ]
    }
   ],
   "source": [
    "!pip install opencv-python"
   ]
  },
  {
   "cell_type": "code",
   "execution_count": 16,
   "metadata": {},
   "outputs": [],
   "source": [
    "import cv2 as cv\n",
    "import numpy as np\n",
    "from skimage import io\n",
    "import numpy as np\n",
    "from skimage.io import imshow"
   ]
  },
  {
   "cell_type": "code",
   "execution_count": null,
   "metadata": {},
   "outputs": [],
   "source": [
    "#path=https://github.com/deliormangokce/MATH555E-GitHub/blob/main/dog.jpg\n",
    "img= cv.imread('C:\\\\Users\\\\gokcedeliorman\\\\PycharmProjects\\\\pythonProject\\\\images\\\\dog.jpg')\n",
    "\n",
    "##resmi gri gösterme\n",
    "img2=cv.imread('C:\\\\Users\\\\gokcedeliorman\\\\PycharmProjects\\\\pythonProject\\\\images\\\\dog.jpg',0)\n",
    "cv.imshow('ddd', img)\n",
    "\n",
    "##resmin üstüne çizgi bgr=renkler\n",
    "#cv.line(img, (0, 0),(150,200),(255,0,0), 10)\n",
    "##resmi dikdörtgen içine alma\n",
    "cv.rectangle(img, (40,40),(200,250),(45,35,200),5)\n",
    "##yazı yazma\n",
    "cv.putText(img, 'kopek',(20,50), cv.FONT_ITALIC,2,(100,150,34), 4)\n",
    "\n",
    "#resmi bulanıklaştırma\n",
    "blur=cv.GaussianBlur(img, (7,7), cv.BORDER_DEFAULT)\n",
    "cv.imshow('bulanik', blur)\n",
    "\n",
    "##resmin kenar noktalarını gösterme\n",
    "canny= cv.Canny(img,125, 175)\n",
    "cv.imshow('deneme', canny)\n",
    "\n",
    "##resmi yeniden boyutlandırma\n",
    "resized=cv.resize(img,(500,500), interpolation=cv.INTER_AREA)\n",
    "#cv.imshow('boy', resized)\n",
    "\n",
    "#cv.imshow('ddd', img)\n",
    "cv.waitKey(0)"
   ]
  }
 ],
 "metadata": {
  "kernelspec": {
   "display_name": "Python 3",
   "language": "python",
   "name": "python3"
  },
  "language_info": {
   "codemirror_mode": {
    "name": "ipython",
    "version": 3
   },
   "file_extension": ".py",
   "mimetype": "text/x-python",
   "name": "python",
   "nbconvert_exporter": "python",
   "pygments_lexer": "ipython3",
   "version": "3.8.8"
  }
 },
 "nbformat": 4,
 "nbformat_minor": 4
}
